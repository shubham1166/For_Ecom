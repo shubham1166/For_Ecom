{
  "nbformat": 4,
  "nbformat_minor": 0,
  "metadata": {
    "colab": {
      "name": "lab11_networks_solution.ipynb",
      "provenance": [],
      "collapsed_sections": [],
      "toc_visible": true
    },
    "kernelspec": {
      "name": "python3",
      "display_name": "Python 3"
    },
    "widgets": {
      "application/vnd.jupyter.widget-state+json": {
        "19a0446cf1514ea288bf47bbb345977f": {
          "model_module": "@jupyter-widgets/controls",
          "model_name": "HBoxModel",
          "state": {
            "_view_name": "HBoxView",
            "_dom_classes": [],
            "_model_name": "HBoxModel",
            "_view_module": "@jupyter-widgets/controls",
            "_model_module_version": "1.5.0",
            "_view_count": null,
            "_view_module_version": "1.5.0",
            "box_style": "",
            "layout": "IPY_MODEL_56c600a73b8f4a578012806c1c6c94fe",
            "_model_module": "@jupyter-widgets/controls",
            "children": [
              "IPY_MODEL_1774c1af685641a18a36c65358fbf305",
              "IPY_MODEL_95e4f47ae3bf4103a37718f125d67c87"
            ]
          }
        },
        "56c600a73b8f4a578012806c1c6c94fe": {
          "model_module": "@jupyter-widgets/base",
          "model_name": "LayoutModel",
          "state": {
            "_view_name": "LayoutView",
            "grid_template_rows": null,
            "right": null,
            "justify_content": null,
            "_view_module": "@jupyter-widgets/base",
            "overflow": null,
            "_model_module_version": "1.2.0",
            "_view_count": null,
            "flex_flow": null,
            "width": null,
            "min_width": null,
            "border": null,
            "align_items": null,
            "bottom": null,
            "_model_module": "@jupyter-widgets/base",
            "top": null,
            "grid_column": null,
            "overflow_y": null,
            "overflow_x": null,
            "grid_auto_flow": null,
            "grid_area": null,
            "grid_template_columns": null,
            "flex": null,
            "_model_name": "LayoutModel",
            "justify_items": null,
            "grid_row": null,
            "max_height": null,
            "align_content": null,
            "visibility": null,
            "align_self": null,
            "height": null,
            "min_height": null,
            "padding": null,
            "grid_auto_rows": null,
            "grid_gap": null,
            "max_width": null,
            "order": null,
            "_view_module_version": "1.2.0",
            "grid_template_areas": null,
            "object_position": null,
            "object_fit": null,
            "grid_auto_columns": null,
            "margin": null,
            "display": null,
            "left": null
          }
        },
        "1774c1af685641a18a36c65358fbf305": {
          "model_module": "@jupyter-widgets/controls",
          "model_name": "FloatProgressModel",
          "state": {
            "_view_name": "ProgressView",
            "style": "IPY_MODEL_19a2fd7e6dcd4fa1b5422b86b146c692",
            "_dom_classes": [],
            "description": "100%",
            "_model_name": "FloatProgressModel",
            "bar_style": "success",
            "max": 20000,
            "_view_module": "@jupyter-widgets/controls",
            "_model_module_version": "1.5.0",
            "value": 20000,
            "_view_count": null,
            "_view_module_version": "1.5.0",
            "orientation": "horizontal",
            "min": 0,
            "description_tooltip": null,
            "_model_module": "@jupyter-widgets/controls",
            "layout": "IPY_MODEL_8b553bb3ee914b01987bb26428cda90c"
          }
        },
        "95e4f47ae3bf4103a37718f125d67c87": {
          "model_module": "@jupyter-widgets/controls",
          "model_name": "HTMLModel",
          "state": {
            "_view_name": "HTMLView",
            "style": "IPY_MODEL_37aa9a4f7ead4df2a3f8391b9367a6fd",
            "_dom_classes": [],
            "description": "",
            "_model_name": "HTMLModel",
            "placeholder": "​",
            "_view_module": "@jupyter-widgets/controls",
            "_model_module_version": "1.5.0",
            "value": " 20000/20000 [08:36&lt;00:00, 38.71it/s]",
            "_view_count": null,
            "_view_module_version": "1.5.0",
            "description_tooltip": null,
            "_model_module": "@jupyter-widgets/controls",
            "layout": "IPY_MODEL_610b94b7a42345069c034871604320e8"
          }
        },
        "19a2fd7e6dcd4fa1b5422b86b146c692": {
          "model_module": "@jupyter-widgets/controls",
          "model_name": "ProgressStyleModel",
          "state": {
            "_view_name": "StyleView",
            "_model_name": "ProgressStyleModel",
            "description_width": "initial",
            "_view_module": "@jupyter-widgets/base",
            "_model_module_version": "1.5.0",
            "_view_count": null,
            "_view_module_version": "1.2.0",
            "bar_color": null,
            "_model_module": "@jupyter-widgets/controls"
          }
        },
        "8b553bb3ee914b01987bb26428cda90c": {
          "model_module": "@jupyter-widgets/base",
          "model_name": "LayoutModel",
          "state": {
            "_view_name": "LayoutView",
            "grid_template_rows": null,
            "right": null,
            "justify_content": null,
            "_view_module": "@jupyter-widgets/base",
            "overflow": null,
            "_model_module_version": "1.2.0",
            "_view_count": null,
            "flex_flow": null,
            "width": null,
            "min_width": null,
            "border": null,
            "align_items": null,
            "bottom": null,
            "_model_module": "@jupyter-widgets/base",
            "top": null,
            "grid_column": null,
            "overflow_y": null,
            "overflow_x": null,
            "grid_auto_flow": null,
            "grid_area": null,
            "grid_template_columns": null,
            "flex": null,
            "_model_name": "LayoutModel",
            "justify_items": null,
            "grid_row": null,
            "max_height": null,
            "align_content": null,
            "visibility": null,
            "align_self": null,
            "height": null,
            "min_height": null,
            "padding": null,
            "grid_auto_rows": null,
            "grid_gap": null,
            "max_width": null,
            "order": null,
            "_view_module_version": "1.2.0",
            "grid_template_areas": null,
            "object_position": null,
            "object_fit": null,
            "grid_auto_columns": null,
            "margin": null,
            "display": null,
            "left": null
          }
        },
        "37aa9a4f7ead4df2a3f8391b9367a6fd": {
          "model_module": "@jupyter-widgets/controls",
          "model_name": "DescriptionStyleModel",
          "state": {
            "_view_name": "StyleView",
            "_model_name": "DescriptionStyleModel",
            "description_width": "",
            "_view_module": "@jupyter-widgets/base",
            "_model_module_version": "1.5.0",
            "_view_count": null,
            "_view_module_version": "1.2.0",
            "_model_module": "@jupyter-widgets/controls"
          }
        },
        "610b94b7a42345069c034871604320e8": {
          "model_module": "@jupyter-widgets/base",
          "model_name": "LayoutModel",
          "state": {
            "_view_name": "LayoutView",
            "grid_template_rows": null,
            "right": null,
            "justify_content": null,
            "_view_module": "@jupyter-widgets/base",
            "overflow": null,
            "_model_module_version": "1.2.0",
            "_view_count": null,
            "flex_flow": null,
            "width": null,
            "min_width": null,
            "border": null,
            "align_items": null,
            "bottom": null,
            "_model_module": "@jupyter-widgets/base",
            "top": null,
            "grid_column": null,
            "overflow_y": null,
            "overflow_x": null,
            "grid_auto_flow": null,
            "grid_area": null,
            "grid_template_columns": null,
            "flex": null,
            "_model_name": "LayoutModel",
            "justify_items": null,
            "grid_row": null,
            "max_height": null,
            "align_content": null,
            "visibility": null,
            "align_self": null,
            "height": null,
            "min_height": null,
            "padding": null,
            "grid_auto_rows": null,
            "grid_gap": null,
            "max_width": null,
            "order": null,
            "_view_module_version": "1.2.0",
            "grid_template_areas": null,
            "object_position": null,
            "object_fit": null,
            "grid_auto_columns": null,
            "margin": null,
            "display": null,
            "left": null
          }
        },
        "9fcb8395c7f742e68c5f9246e3f30fd8": {
          "model_module": "@jupyter-widgets/controls",
          "model_name": "HBoxModel",
          "state": {
            "_view_name": "HBoxView",
            "_dom_classes": [],
            "_model_name": "HBoxModel",
            "_view_module": "@jupyter-widgets/controls",
            "_model_module_version": "1.5.0",
            "_view_count": null,
            "_view_module_version": "1.5.0",
            "box_style": "",
            "layout": "IPY_MODEL_922f1fe606d44f35a99df08e11070f96",
            "_model_module": "@jupyter-widgets/controls",
            "children": [
              "IPY_MODEL_a12c09d7803a44ec9ff4ac6bead51026",
              "IPY_MODEL_d55d0243e5d24cfdadabaab2647427ec"
            ]
          }
        },
        "922f1fe606d44f35a99df08e11070f96": {
          "model_module": "@jupyter-widgets/base",
          "model_name": "LayoutModel",
          "state": {
            "_view_name": "LayoutView",
            "grid_template_rows": null,
            "right": null,
            "justify_content": null,
            "_view_module": "@jupyter-widgets/base",
            "overflow": null,
            "_model_module_version": "1.2.0",
            "_view_count": null,
            "flex_flow": null,
            "width": null,
            "min_width": null,
            "border": null,
            "align_items": null,
            "bottom": null,
            "_model_module": "@jupyter-widgets/base",
            "top": null,
            "grid_column": null,
            "overflow_y": null,
            "overflow_x": null,
            "grid_auto_flow": null,
            "grid_area": null,
            "grid_template_columns": null,
            "flex": null,
            "_model_name": "LayoutModel",
            "justify_items": null,
            "grid_row": null,
            "max_height": null,
            "align_content": null,
            "visibility": null,
            "align_self": null,
            "height": null,
            "min_height": null,
            "padding": null,
            "grid_auto_rows": null,
            "grid_gap": null,
            "max_width": null,
            "order": null,
            "_view_module_version": "1.2.0",
            "grid_template_areas": null,
            "object_position": null,
            "object_fit": null,
            "grid_auto_columns": null,
            "margin": null,
            "display": null,
            "left": null
          }
        },
        "a12c09d7803a44ec9ff4ac6bead51026": {
          "model_module": "@jupyter-widgets/controls",
          "model_name": "FloatProgressModel",
          "state": {
            "_view_name": "ProgressView",
            "style": "IPY_MODEL_382260d6983648748e4ac03678144140",
            "_dom_classes": [],
            "description": "100%",
            "_model_name": "FloatProgressModel",
            "bar_style": "success",
            "max": 20000,
            "_view_module": "@jupyter-widgets/controls",
            "_model_module_version": "1.5.0",
            "value": 20000,
            "_view_count": null,
            "_view_module_version": "1.5.0",
            "orientation": "horizontal",
            "min": 0,
            "description_tooltip": null,
            "_model_module": "@jupyter-widgets/controls",
            "layout": "IPY_MODEL_744cf6a6de2949c298c9b67d9b1d5b41"
          }
        },
        "d55d0243e5d24cfdadabaab2647427ec": {
          "model_module": "@jupyter-widgets/controls",
          "model_name": "HTMLModel",
          "state": {
            "_view_name": "HTMLView",
            "style": "IPY_MODEL_3d29bcd9cac84057911a310015ec6a04",
            "_dom_classes": [],
            "description": "",
            "_model_name": "HTMLModel",
            "placeholder": "​",
            "_view_module": "@jupyter-widgets/controls",
            "_model_module_version": "1.5.0",
            "value": " 20000/20000 [10:16&lt;00:00, 32.45it/s]",
            "_view_count": null,
            "_view_module_version": "1.5.0",
            "description_tooltip": null,
            "_model_module": "@jupyter-widgets/controls",
            "layout": "IPY_MODEL_3216f07ee7ac4a19b3e6ee1d8cb8ea9a"
          }
        },
        "382260d6983648748e4ac03678144140": {
          "model_module": "@jupyter-widgets/controls",
          "model_name": "ProgressStyleModel",
          "state": {
            "_view_name": "StyleView",
            "_model_name": "ProgressStyleModel",
            "description_width": "initial",
            "_view_module": "@jupyter-widgets/base",
            "_model_module_version": "1.5.0",
            "_view_count": null,
            "_view_module_version": "1.2.0",
            "bar_color": null,
            "_model_module": "@jupyter-widgets/controls"
          }
        },
        "744cf6a6de2949c298c9b67d9b1d5b41": {
          "model_module": "@jupyter-widgets/base",
          "model_name": "LayoutModel",
          "state": {
            "_view_name": "LayoutView",
            "grid_template_rows": null,
            "right": null,
            "justify_content": null,
            "_view_module": "@jupyter-widgets/base",
            "overflow": null,
            "_model_module_version": "1.2.0",
            "_view_count": null,
            "flex_flow": null,
            "width": null,
            "min_width": null,
            "border": null,
            "align_items": null,
            "bottom": null,
            "_model_module": "@jupyter-widgets/base",
            "top": null,
            "grid_column": null,
            "overflow_y": null,
            "overflow_x": null,
            "grid_auto_flow": null,
            "grid_area": null,
            "grid_template_columns": null,
            "flex": null,
            "_model_name": "LayoutModel",
            "justify_items": null,
            "grid_row": null,
            "max_height": null,
            "align_content": null,
            "visibility": null,
            "align_self": null,
            "height": null,
            "min_height": null,
            "padding": null,
            "grid_auto_rows": null,
            "grid_gap": null,
            "max_width": null,
            "order": null,
            "_view_module_version": "1.2.0",
            "grid_template_areas": null,
            "object_position": null,
            "object_fit": null,
            "grid_auto_columns": null,
            "margin": null,
            "display": null,
            "left": null
          }
        },
        "3d29bcd9cac84057911a310015ec6a04": {
          "model_module": "@jupyter-widgets/controls",
          "model_name": "DescriptionStyleModel",
          "state": {
            "_view_name": "StyleView",
            "_model_name": "DescriptionStyleModel",
            "description_width": "",
            "_view_module": "@jupyter-widgets/base",
            "_model_module_version": "1.5.0",
            "_view_count": null,
            "_view_module_version": "1.2.0",
            "_model_module": "@jupyter-widgets/controls"
          }
        },
        "3216f07ee7ac4a19b3e6ee1d8cb8ea9a": {
          "model_module": "@jupyter-widgets/base",
          "model_name": "LayoutModel",
          "state": {
            "_view_name": "LayoutView",
            "grid_template_rows": null,
            "right": null,
            "justify_content": null,
            "_view_module": "@jupyter-widgets/base",
            "overflow": null,
            "_model_module_version": "1.2.0",
            "_view_count": null,
            "flex_flow": null,
            "width": null,
            "min_width": null,
            "border": null,
            "align_items": null,
            "bottom": null,
            "_model_module": "@jupyter-widgets/base",
            "top": null,
            "grid_column": null,
            "overflow_y": null,
            "overflow_x": null,
            "grid_auto_flow": null,
            "grid_area": null,
            "grid_template_columns": null,
            "flex": null,
            "_model_name": "LayoutModel",
            "justify_items": null,
            "grid_row": null,
            "max_height": null,
            "align_content": null,
            "visibility": null,
            "align_self": null,
            "height": null,
            "min_height": null,
            "padding": null,
            "grid_auto_rows": null,
            "grid_gap": null,
            "max_width": null,
            "order": null,
            "_view_module_version": "1.2.0",
            "grid_template_areas": null,
            "object_position": null,
            "object_fit": null,
            "grid_auto_columns": null,
            "margin": null,
            "display": null,
            "left": null
          }
        },
        "df8efb2eecd946259439949338bae25a": {
          "model_module": "@jupyter-widgets/controls",
          "model_name": "HBoxModel",
          "state": {
            "_view_name": "HBoxView",
            "_dom_classes": [],
            "_model_name": "HBoxModel",
            "_view_module": "@jupyter-widgets/controls",
            "_model_module_version": "1.5.0",
            "_view_count": null,
            "_view_module_version": "1.5.0",
            "box_style": "",
            "layout": "IPY_MODEL_efddcb9b3dfb472a9c21bdffcf3ebbce",
            "_model_module": "@jupyter-widgets/controls",
            "children": [
              "IPY_MODEL_bb0e2a4dc3ca450e96b2de7d26119a8c",
              "IPY_MODEL_417b7244957f410f99a7b24d2d50a752"
            ]
          }
        },
        "efddcb9b3dfb472a9c21bdffcf3ebbce": {
          "model_module": "@jupyter-widgets/base",
          "model_name": "LayoutModel",
          "state": {
            "_view_name": "LayoutView",
            "grid_template_rows": null,
            "right": null,
            "justify_content": null,
            "_view_module": "@jupyter-widgets/base",
            "overflow": null,
            "_model_module_version": "1.2.0",
            "_view_count": null,
            "flex_flow": null,
            "width": null,
            "min_width": null,
            "border": null,
            "align_items": null,
            "bottom": null,
            "_model_module": "@jupyter-widgets/base",
            "top": null,
            "grid_column": null,
            "overflow_y": null,
            "overflow_x": null,
            "grid_auto_flow": null,
            "grid_area": null,
            "grid_template_columns": null,
            "flex": null,
            "_model_name": "LayoutModel",
            "justify_items": null,
            "grid_row": null,
            "max_height": null,
            "align_content": null,
            "visibility": null,
            "align_self": null,
            "height": null,
            "min_height": null,
            "padding": null,
            "grid_auto_rows": null,
            "grid_gap": null,
            "max_width": null,
            "order": null,
            "_view_module_version": "1.2.0",
            "grid_template_areas": null,
            "object_position": null,
            "object_fit": null,
            "grid_auto_columns": null,
            "margin": null,
            "display": null,
            "left": null
          }
        },
        "bb0e2a4dc3ca450e96b2de7d26119a8c": {
          "model_module": "@jupyter-widgets/controls",
          "model_name": "FloatProgressModel",
          "state": {
            "_view_name": "ProgressView",
            "style": "IPY_MODEL_53d2479787c740daa3077d41765267b9",
            "_dom_classes": [],
            "description": "100%",
            "_model_name": "FloatProgressModel",
            "bar_style": "success",
            "max": 200000,
            "_view_module": "@jupyter-widgets/controls",
            "_model_module_version": "1.5.0",
            "value": 200000,
            "_view_count": null,
            "_view_module_version": "1.5.0",
            "orientation": "horizontal",
            "min": 0,
            "description_tooltip": null,
            "_model_module": "@jupyter-widgets/controls",
            "layout": "IPY_MODEL_8ef6bd4565204234a8077804ef21cc54"
          }
        },
        "417b7244957f410f99a7b24d2d50a752": {
          "model_module": "@jupyter-widgets/controls",
          "model_name": "HTMLModel",
          "state": {
            "_view_name": "HTMLView",
            "style": "IPY_MODEL_80a12c2a1a3341fb896526f17e2a1440",
            "_dom_classes": [],
            "description": "",
            "_model_name": "HTMLModel",
            "placeholder": "​",
            "_view_module": "@jupyter-widgets/controls",
            "_model_module_version": "1.5.0",
            "value": " 200000/200000 [00:34&lt;00:00, 5793.67it/s]",
            "_view_count": null,
            "_view_module_version": "1.5.0",
            "description_tooltip": null,
            "_model_module": "@jupyter-widgets/controls",
            "layout": "IPY_MODEL_42518383f9104a33b42c135abe22eed4"
          }
        },
        "53d2479787c740daa3077d41765267b9": {
          "model_module": "@jupyter-widgets/controls",
          "model_name": "ProgressStyleModel",
          "state": {
            "_view_name": "StyleView",
            "_model_name": "ProgressStyleModel",
            "description_width": "initial",
            "_view_module": "@jupyter-widgets/base",
            "_model_module_version": "1.5.0",
            "_view_count": null,
            "_view_module_version": "1.2.0",
            "bar_color": null,
            "_model_module": "@jupyter-widgets/controls"
          }
        },
        "8ef6bd4565204234a8077804ef21cc54": {
          "model_module": "@jupyter-widgets/base",
          "model_name": "LayoutModel",
          "state": {
            "_view_name": "LayoutView",
            "grid_template_rows": null,
            "right": null,
            "justify_content": null,
            "_view_module": "@jupyter-widgets/base",
            "overflow": null,
            "_model_module_version": "1.2.0",
            "_view_count": null,
            "flex_flow": null,
            "width": null,
            "min_width": null,
            "border": null,
            "align_items": null,
            "bottom": null,
            "_model_module": "@jupyter-widgets/base",
            "top": null,
            "grid_column": null,
            "overflow_y": null,
            "overflow_x": null,
            "grid_auto_flow": null,
            "grid_area": null,
            "grid_template_columns": null,
            "flex": null,
            "_model_name": "LayoutModel",
            "justify_items": null,
            "grid_row": null,
            "max_height": null,
            "align_content": null,
            "visibility": null,
            "align_self": null,
            "height": null,
            "min_height": null,
            "padding": null,
            "grid_auto_rows": null,
            "grid_gap": null,
            "max_width": null,
            "order": null,
            "_view_module_version": "1.2.0",
            "grid_template_areas": null,
            "object_position": null,
            "object_fit": null,
            "grid_auto_columns": null,
            "margin": null,
            "display": null,
            "left": null
          }
        },
        "80a12c2a1a3341fb896526f17e2a1440": {
          "model_module": "@jupyter-widgets/controls",
          "model_name": "DescriptionStyleModel",
          "state": {
            "_view_name": "StyleView",
            "_model_name": "DescriptionStyleModel",
            "description_width": "",
            "_view_module": "@jupyter-widgets/base",
            "_model_module_version": "1.5.0",
            "_view_count": null,
            "_view_module_version": "1.2.0",
            "_model_module": "@jupyter-widgets/controls"
          }
        },
        "42518383f9104a33b42c135abe22eed4": {
          "model_module": "@jupyter-widgets/base",
          "model_name": "LayoutModel",
          "state": {
            "_view_name": "LayoutView",
            "grid_template_rows": null,
            "right": null,
            "justify_content": null,
            "_view_module": "@jupyter-widgets/base",
            "overflow": null,
            "_model_module_version": "1.2.0",
            "_view_count": null,
            "flex_flow": null,
            "width": null,
            "min_width": null,
            "border": null,
            "align_items": null,
            "bottom": null,
            "_model_module": "@jupyter-widgets/base",
            "top": null,
            "grid_column": null,
            "overflow_y": null,
            "overflow_x": null,
            "grid_auto_flow": null,
            "grid_area": null,
            "grid_template_columns": null,
            "flex": null,
            "_model_name": "LayoutModel",
            "justify_items": null,
            "grid_row": null,
            "max_height": null,
            "align_content": null,
            "visibility": null,
            "align_self": null,
            "height": null,
            "min_height": null,
            "padding": null,
            "grid_auto_rows": null,
            "grid_gap": null,
            "max_width": null,
            "order": null,
            "_view_module_version": "1.2.0",
            "grid_template_areas": null,
            "object_position": null,
            "object_fit": null,
            "grid_auto_columns": null,
            "margin": null,
            "display": null,
            "left": null
          }
        }
      }
    }
  },
  "cells": [
    {
      "cell_type": "markdown",
      "metadata": {
        "id": "Np54G_X2Grlq"
      },
      "source": [
        "## Shubham Sharma\n",
        "# IIT Bombay\n",
        "This is a solution file for lab 11\n"
      ]
    },
    {
      "cell_type": "markdown",
      "metadata": {
        "id": "GbvTIOwPbU0F"
      },
      "source": [
        "#IE507 Lab 11\n",
        "###Random processes over networks\n",
        "###November 11, 2020\n",
        "(Ashutosh Mahajan)\n",
        "\n",
        "We will simulate some random processes over graphs or networks in this lab. Recall that a network or a graph is a set of nodes along with a set of links or edges that connect pairs of nodes. For instance, a node may denote a location in a map and an edge could be a road that links two locations. Or nodes may represent people and links may represent social relationships. Random events may take place over nodes and links which may lead to an overall interesting behaviour over the network which can be analyzed. Here is an example of a graph with 5 nodes and 7 edges. \n",
        "\n"
      ]
    },
    {
      "cell_type": "markdown",
      "metadata": {
        "id": "QosRiOYI_ioN"
      },
      "source": [
        "![net.png](data:image/png;base64,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)"
      ]
    },
    {
      "cell_type": "markdown",
      "metadata": {
        "id": "F6DiIHuVq0Lm"
      },
      "source": [
        "Let us first look at one way of storing a graph before looking at some questions. One way is by assigning an index (number) to each node. An edge is then just a pair of nodes. For example, in the above graph we have nodes 0,1,...,5. Examples of edges are (2,3), (0,4), (0,3) etc. One can represent the edges in python using two lists: one containing a list of all head nodes and the other containing all the tail nodes. For the above graph we will have\n",
        "\n",
        "tl = [0 0 1 1 2 2 3]\n",
        "\n",
        "hd = [3 4 2 3 3 4 4]\n",
        "\n",
        "representing edges (0,3), (0,4), ..., (3,4). Let us fetch some graph data now of somewhat bigger graphs.\n"
      ]
    },
    {
      "cell_type": "code",
      "metadata": {
        "id": "N0SnRJgFBItl",
        "colab": {
          "base_uri": "https://localhost:8080/"
        },
        "outputId": "9e60aafc-6bbc-4f69-d9c5-873c9a3325f3"
      },
      "source": [
        "%%bash\n",
        "rm -fv net1.py net5.py net7.py\n",
        "wget -q https://www.ieor.iitb.ac.in/files/faculty/amahajan/net1.py\n",
        "wget -q https://www.ieor.iitb.ac.in/files/faculty/amahajan/net5.py\n",
        "wget -q https://www.ieor.iitb.ac.in/files/faculty/amahajan/net7.py\n",
        "ls"
      ],
      "execution_count": null,
      "outputs": [
        {
          "output_type": "stream",
          "text": [
            "net1.py\n",
            "net5.py\n",
            "net7.py\n",
            "sample_data\n"
          ],
          "name": "stdout"
        }
      ]
    },
    {
      "cell_type": "markdown",
      "metadata": {
        "id": "MTAdqNxlBIBb"
      },
      "source": [
        "net1.py has 10 nodes, net2.py 50 and net7.py 800. For our exercises, we will need to store the graphs in a different manner. We will have a list of nodes and have a list of neighbors of each node. The following code reads net1.py and converts it into this form. You may try changing net1 to net7."
      ]
    },
    {
      "cell_type": "code",
      "metadata": {
        "id": "C0eiSKecDcDj",
        "colab": {
          "base_uri": "https://localhost:8080/"
        },
        "outputId": "0e2a455b-bbdf-46db-8c1d-9a7d2d0b1efb"
      },
      "source": [
        "import matplotlib.pyplot as plt\n",
        "import net1\n",
        "import net5\n",
        "import net7\n",
        "\n",
        "class Node:\n",
        "  def __init__(self, ind):\n",
        "\t  self.ind = ind\n",
        "\t  self.nhbs = []\n",
        "\t  self.size_n = 0\n",
        "\n",
        "  def add_neighbor(self, nhb):\n",
        "\t  if nhb not in self.nhbs:\n",
        "\t\t  self.nhbs.append(nhb)\n",
        "\t\t  self.size_n += 1\n",
        "\n",
        "  def write(self):\n",
        "\t  # for debugging\n",
        "\t  print(\"node index = \", self.ind, \" neighbors =\", self.size_n, \" \", end='')\n",
        "\t  for i in self.nhbs:\n",
        "\t\t  print(i.ind, end=' ')\n",
        "\t  print()\n",
        "\n",
        "# G = net5\n",
        "# n = G.n\n",
        "# m = len(G.hd)\n",
        "# nodes = []\n",
        "\n",
        "# # First add all nodes\n",
        "# for i in range(n):\n",
        "# \tnn = Node(i+1)\n",
        "# \tnodes.append(nn)\n",
        "\n",
        "# # Next add links or neighbors\n",
        "# for i in range(m):\n",
        "# \t# take each edge and add neighbors\n",
        "# \tt = nodes[G.tl[i]-1]\n",
        "# \th = nodes[G.hd[i]-1]\n",
        "# \tt.add_neighbor(h)\n",
        "# \th.add_neighbor(t)\n",
        "\t\n",
        "# # Graph is ready, now analyze it\n",
        "# # let us first print information about some nodes\n",
        "\n",
        "# nodes[0].write()\n",
        "# nodes[9].write()\n",
        "\n"
      ],
      "execution_count": null,
      "outputs": [
        {
          "output_type": "stream",
          "text": [
            "node index =  1  neighbors = 20  389 168 79 293 158 173 186 277 221 133 286 213 449 33 55 126 388 296 47 298 \n",
            "node index =  10  neighbors = 18  17 432 148 311 307 319 299 42 489 431 35 185 34 330 175 498 270 327 \n"
          ],
          "name": "stdout"
        }
      ]
    },
    {
      "cell_type": "markdown",
      "metadata": {
        "id": "DGCIL7BxgdqI"
      },
      "source": [
        "Like last time, we can use [matplotlib package to make a plot](https://matplotlib.org/3.2.1/gallery/index.html) of number of neighbors of each node."
      ]
    },
    {
      "cell_type": "code",
      "metadata": {
        "id": "u246kCs8EpU9",
        "colab": {
          "base_uri": "https://localhost:8080/",
          "height": 314
        },
        "outputId": "304b13e9-ed40-4af3-9213-6645b8ae9c0e"
      },
      "source": [
        "l = []\n",
        "for nn in nodes:\n",
        "  l.append(nn.size_n)\n",
        "fig, ax = plt.subplots(tight_layout=True)\n",
        "hist = ax.hist(l, bins=30)\n",
        "ax.set_ylabel('Frequency')\n",
        "ax.set_xlabel('Number of neighbors')\n",
        "\n",
        "ax.set_title('Distribution of the number of neighbors of a node')"
      ],
      "execution_count": null,
      "outputs": [
        {
          "output_type": "execute_result",
          "data": {
            "text/plain": [
              "Text(0.5, 1.0, 'Distribution of the number of neighbors of a node')"
            ]
          },
          "metadata": {
            "tags": []
          },
          "execution_count": 15
        },
        {
          "output_type": "display_data",
          "data": {
            "image/png": "[encoded data removed]",
            "text/plain": [
              "<Figure size 432x288 with 1 Axes>"
            ]
          },
          "metadata": {
            "tags": [],
            "needs_background": "light"
          }
        }
      ]
    },
    {
      "cell_type": "markdown",
      "metadata": {
        "id": "r9gSqWG7hiEN"
      },
      "source": [
        "\n",
        "Q.1 Let us model the behaviour of a taxi cab serving customers over this network. Suppose each node represents a locality in Mumbai. At any given node, a cab driver may get a passenger for other localities. Depending on the locality he may get passengers to only some of the localities (and not all). These destination nodes can be modeled as the neighbors of the node where the taxi is currently stationed. Starting from node 0, suppose the taxi is equally likely to get a passenger to any of the neighbors, and this process is repeated many times. Simulate the movement of taxi and estimate roughly how many trips are required on average for it to return to node 0. Remember to run your simulation several times. Next, pick a node with the largest degree (number of neighbors) in this network. Suppose we start from this node, what is the expected time to return to the starting node. If we choose a node with the smallest degree, do we see a significant change in the number of trips? "
      ]
    },
    {
      "cell_type": "markdown",
      "metadata": {
        "id": "N1s_fEyhitrX"
      },
      "source": [
        "Q. 2 A different model now. Suppose two adversarial countries have one submarine each patroling in a sea. Let the nodes of the network denote areas of interest where these submarines visit regularly. Let a 'neighboring' node represent an area adjacent geographically to a given node. Suppose the two submarines start at week t=0, one from Node 0 and the other from Node 25 and move by randomly moving to one of the neighbors in the next week. Can the two ever 'meet' or be in a same location simultaneously? Plot a histogram to show the distribution of time to meet. What is the expected time? Suppose they start from the same location, what is the expected time for the next meeting.\n",
        "\n"
      ]
    },
    {
      "cell_type": "markdown",
      "metadata": {
        "id": "f_1t-agVJQAR"
      },
      "source": [
        "Q.3 Lastly, suppose a node represents a person and a link between two nodes indicates that the two persons are friends over a social network. Suppose node-0 (initiator) starts spreading a rumour in the following way. The initiator sends the message to all his friends. Each friend randomly decides to either ignore the message after seeing it (probability 0.75), or forward it to any two contacts different from the one who sent it to him/her (probability 0.20) or to all of his contacts (0.05 probability). A person who has already received the message earlier ignores it completely. Estimate how soon will half the population on the network platform have seen the message?"
      ]
    },
    {
      "cell_type": "code",
      "metadata": {
        "id": "kW_jeoOKju9n"
      },
      "source": [
        "import numpy as np\n",
        "from tqdm import tqdm_notebook\n",
        "np.random.seed(0)\n",
        "def give_simulations(node):\n",
        "  # this function willl tell the time it would take to come to origin\n",
        "  current_node = node\n",
        "  next_choosen_nbr = current_node.nhbs[np.random.randint(0, len(current_node.nhbs))]\n",
        "  current_node = next_choosen_nbr\n",
        "  steps = 1\n",
        "  while current_node != node:\n",
        "    next_choosen_nbr = current_node.nhbs[np.random.randint(0, len(current_node.nhbs))]\n",
        "    current_node = next_choosen_nbr\n",
        "    steps += 1\n",
        "  return steps\n",
        "\n",
        "def give_nodes(G):\n",
        "  n = G.n\n",
        "  m = len(G.hd)\n",
        "  nodes = []\n",
        "\n",
        "  # First add all nodes\n",
        "  for i in range(n):\n",
        "    nn = Node(i+1)\n",
        "    nodes.append(nn)\n",
        "\n",
        "  # Next add links or neighbors\n",
        "  for i in range(m):\n",
        "    # take each edge and add neighbors\n",
        "    t = nodes[G.tl[i]-1]\n",
        "    h = nodes[G.hd[i]-1]\n",
        "    t.add_neighbor(h)\n",
        "    h.add_neighbor(t)  \n",
        "\n",
        "  return nodes\n",
        "\n",
        "def give_max_min(nodes):\n",
        "  #return the node with maximum neighbours\n",
        "  temp = [len(nodes[i].nhbs) for i in range(len(nodes))]\n",
        "  max_ix = np.argmax(temp)\n",
        "  min_ix = np.argmin(temp)\n",
        "  return max_ix, min_ix\n",
        "\n",
        "\n",
        "nodes_net1 =  give_nodes(net1)\n",
        "nodes_net5 =  give_nodes(net5)\n",
        "nodes_net7 =  give_nodes(net7)"
      ],
      "execution_count": null,
      "outputs": []
    },
    {
      "cell_type": "code",
      "metadata": {
        "id": "0DoU8bUCUAn-",
        "colab": {
          "base_uri": "https://localhost:8080/"
        },
        "outputId": "2b3a4b3b-e315-43a3-a86e-e474f47dd289"
      },
      "source": [
        ""
      ],
      "execution_count": null,
      "outputs": [
        {
          "output_type": "execute_result",
          "data": {
            "text/plain": [
              "[<__main__.Node at 0x7f7d6837ccc0>,\n",
              " <__main__.Node at 0x7f7d67fed3c8>,\n",
              " <__main__.Node at 0x7f7d7d98e0f0>,\n",
              " <__main__.Node at 0x7f7d68b5d278>,\n",
              " <__main__.Node at 0x7f7d67fed208>,\n",
              " <__main__.Node at 0x7f7d68b8d438>,\n",
              " <__main__.Node at 0x7f7d68ba35c0>,\n",
              " <__main__.Node at 0x7f7d68b64f60>,\n",
              " <__main__.Node at 0x7f7d71442828>,\n",
              " <__main__.Node at 0x7f7d67fe1ba8>,\n",
              " <__main__.Node at 0x7f7d68b44588>,\n",
              " <__main__.Node at 0x7f7d68bb9908>,\n",
              " <__main__.Node at 0x7f7d685682b0>,\n",
              " <__main__.Node at 0x7f7d68367320>,\n",
              " <__main__.Node at 0x7f7d683677f0>,\n",
              " <__main__.Node at 0x7f7d67fe15c0>,\n",
              " <__main__.Node at 0x7f7d6837cf60>,\n",
              " <__main__.Node at 0x7f7d685ee710>,\n",
              " <__main__.Node at 0x7f7d68367630>,\n",
              " <__main__.Node at 0x7f7d685ee6d8>]"
            ]
          },
          "metadata": {
            "tags": []
          },
          "execution_count": 41
        }
      ]
    },
    {
      "cell_type": "markdown",
      "metadata": {
        "id": "HwI5bE1zpF2H"
      },
      "source": [
        "Solution: Question1"
      ]
    },
    {
      "cell_type": "code",
      "metadata": {
        "id": "mS2iYwmumQLJ",
        "colab": {
          "base_uri": "https://localhost:8080/",
          "height": 368,
          "referenced_widgets": [
            "19a0446cf1514ea288bf47bbb345977f",
            "56c600a73b8f4a578012806c1c6c94fe",
            "1774c1af685641a18a36c65358fbf305",
            "95e4f47ae3bf4103a37718f125d67c87",
            "19a2fd7e6dcd4fa1b5422b86b146c692",
            "8b553bb3ee914b01987bb26428cda90c",
            "37aa9a4f7ead4df2a3f8391b9367a6fd",
            "610b94b7a42345069c034871604320e8"
          ]
        },
        "outputId": "e510d273-3481-4e37-972d-ec8e3e61ba40"
      },
      "source": [
        "time = 20000\n",
        "\n",
        "trip_net1_node0 = []\n",
        "trip_net5_node0 = []\n",
        "trip_net7_node0 = []\n",
        "\n",
        "trip_net1_node_max = []\n",
        "trip_net5_node_max = []\n",
        "trip_net7_node_max = []\n",
        "\n",
        "trip_net1_node_min = []\n",
        "trip_net5_node_min = []\n",
        "trip_net7_node_min = []\n",
        "\n",
        "max_ix_net1, min_ix_net1 = give_max_min(nodes_net1)\n",
        "max_ix_net5, min_ix_net5 = give_max_min(nodes_net5)\n",
        "max_ix_net7, min_ix_net7 = give_max_min(nodes_net7)\n",
        "for t in tqdm_notebook(range(time)):\n",
        "  #when nodes[0] is to be taken\n",
        "  trip_net1_node0.append(give_simulations(nodes_net1[0]))\n",
        "  trip_net5_node0.append(give_simulations(nodes_net5[0]))\n",
        "  trip_net7_node0.append(give_simulations(nodes_net7[0]))\n",
        "  ##\n",
        "  #when node with max idx is to be taken\n",
        "  trip_net1_node_max.append(give_simulations(nodes_net1[max_ix_net1]))\n",
        "  trip_net5_node_max.append(give_simulations(nodes_net5[max_ix_net5]))\n",
        "  trip_net7_node_max.append(give_simulations(nodes_net7[max_ix_net7]))\n",
        "  ##\n",
        "  #when node with min idx is to be taken\n",
        "  trip_net1_node_min.append(give_simulations(nodes_net1[min_ix_net1]))\n",
        "  trip_net5_node_min.append(give_simulations(nodes_net5[min_ix_net5]))\n",
        "  trip_net7_node_min.append(give_simulations(nodes_net7[min_ix_net7]))\n",
        "\n",
        "print('For network 1')\n",
        "print('Expected time to return to the starting node for node 0', np.mean(trip_net1_node0))\n",
        "print('Expected time to return to the starting node for max neighbor node', np.mean(trip_net1_node_max))\n",
        "print('Expected time to return to the starting node for min neighbor', np.mean(trip_net1_node_min))\n",
        "print('_________')\n",
        "print('For network 5')\n",
        "print('Expected time to return to the starting node for node 0', np.mean(trip_net5_node0))\n",
        "print('Expected time to return to the starting node for max neighbor node', np.mean(trip_net5_node_max))\n",
        "print('Expected time to return to the starting node for min neighbor', np.mean(trip_net5_node_min))\n",
        "print('_________')\n",
        "print('For network 7')\n",
        "print('Expected time to return to the starting node for node 0', np.mean(trip_net7_node0))\n",
        "print('Expected time to return to the starting node for max neighbor node', np.mean(trip_net7_node_max))\n",
        "print('Expected time to return to the starting node for min neighbor', np.mean(trip_net7_node_min))\n",
        "print('_________')\n",
        "\n",
        "\n",
        "  \n",
        "\n",
        "\n",
        "\n",
        "\n"
      ],
      "execution_count": null,
      "outputs": [
        {
          "output_type": "stream",
          "text": [
            "/usr/local/lib/python3.6/dist-packages/ipykernel_launcher.py:18: TqdmDeprecationWarning: This function will be removed in tqdm==5.0.0\n",
            "Please use `tqdm.notebook.tqdm` instead of `tqdm.tqdm_notebook`\n"
          ],
          "name": "stderr"
        },
        {
          "output_type": "display_data",
          "data": {
            "application/vnd.jupyter.widget-view+json": {
              "model_id": "19a0446cf1514ea288bf47bbb345977f",
              "version_minor": 0,
              "version_major": 2
            },
            "text/plain": [
              "HBox(children=(FloatProgress(value=0.0, max=20000.0), HTML(value='')))"
            ]
          },
          "metadata": {
            "tags": []
          }
        },
        {
          "output_type": "stream",
          "text": [
            "\n",
            "For network 1\n",
            "Expected time to return to the starting node for node 0 6.6612\n",
            "Expected time to return to the starting node for max neighbor node 6.76725\n",
            "Expected time to return to the starting node for min neighbor 20.2377\n",
            "_________\n",
            "For network 5\n",
            "Expected time to return to the starting node for node 0 498.10015\n",
            "Expected time to return to the starting node for max neighbor node 316.3199\n",
            "Expected time to return to the starting node for min neighbor 1101.0636\n",
            "_________\n",
            "For network 7\n",
            "Expected time to return to the starting node for node 0 691.2174\n",
            "Expected time to return to the starting node for max neighbor node 448.63685\n",
            "Expected time to return to the starting node for min neighbor 1800.2221\n",
            "_________\n"
          ],
          "name": "stdout"
        }
      ]
    },
    {
      "cell_type": "markdown",
      "metadata": {
        "id": "ZDNV5m8xuYCf"
      },
      "source": [
        "Solution: Question2"
      ]
    },
    {
      "cell_type": "code",
      "metadata": {
        "id": "TX68kWLFslhE"
      },
      "source": [
        "def give_time_of_meet(node1, node2):\n",
        "  #returns when node1 will meet node 2\n",
        "  current_node1 = node1\n",
        "  current_node2 = node2\n",
        "  next_choosen_node1 = current_node1.nhbs[np.random.randint(0, len(current_node1.nhbs))]\n",
        "  next_choosen_node2 = current_node2.nhbs[np.random.randint(0, len(current_node2.nhbs))]\n",
        "  current_node1 = next_choosen_node1\n",
        "  current_node2 = next_choosen_node2\n",
        "  steps = 1\n",
        "  while current_node1 != current_node2:\n",
        "    next_choosen_node1 = current_node1.nhbs[np.random.randint(0, len(current_node1.nhbs))]\n",
        "    next_choosen_node2 = current_node2.nhbs[np.random.randint(0, len(current_node2.nhbs))]\n",
        "    current_node1 = next_choosen_node1\n",
        "    current_node2 = next_choosen_node2\n",
        "    steps += 1\n",
        "  return steps\n",
        "\n",
        "nodes_net5 =  give_nodes(net5)\n",
        "nodes_net7 =  give_nodes(net7)"
      ],
      "execution_count": null,
      "outputs": []
    },
    {
      "cell_type": "code",
      "metadata": {
        "id": "Reagr0ZRtUJh",
        "colab": {
          "base_uri": "https://localhost:8080/",
          "height": 175,
          "referenced_widgets": [
            "9fcb8395c7f742e68c5f9246e3f30fd8",
            "922f1fe606d44f35a99df08e11070f96",
            "a12c09d7803a44ec9ff4ac6bead51026",
            "d55d0243e5d24cfdadabaab2647427ec",
            "382260d6983648748e4ac03678144140",
            "744cf6a6de2949c298c9b67d9b1d5b41",
            "3d29bcd9cac84057911a310015ec6a04",
            "3216f07ee7ac4a19b3e6ee1d8cb8ea9a"
          ]
        },
        "outputId": "beee5bab-6d43-424a-b388-689b510e034f"
      },
      "source": [
        "meet_array_net5 = []\n",
        "meet_array_net7 = []\n",
        "time = 20000\n",
        "for i in tqdm_notebook(range(time)):\n",
        "  meet_array_net5.append(give_time_of_meet(nodes_net5[0], nodes_net5[25]))\n",
        "  meet_array_net7.append(give_time_of_meet(nodes_net7[0], nodes_net7[25]))\n",
        "\n",
        "print('avg time for net 5', np.mean(meet_array_net5))\n",
        "print('avg time for net 7', np.mean(meet_array_net7))\n"
      ],
      "execution_count": null,
      "outputs": [
        {
          "output_type": "stream",
          "text": [
            "/usr/local/lib/python3.6/dist-packages/ipykernel_launcher.py:4: TqdmDeprecationWarning: This function will be removed in tqdm==5.0.0\n",
            "Please use `tqdm.notebook.tqdm` instead of `tqdm.tqdm_notebook`\n",
            "  after removing the cwd from sys.path.\n"
          ],
          "name": "stderr"
        },
        {
          "output_type": "display_data",
          "data": {
            "application/vnd.jupyter.widget-view+json": {
              "model_id": "9fcb8395c7f742e68c5f9246e3f30fd8",
              "version_minor": 0,
              "version_major": 2
            },
            "text/plain": [
              "HBox(children=(FloatProgress(value=0.0, max=20000.0), HTML(value='')))"
            ]
          },
          "metadata": {
            "tags": []
          }
        },
        {
          "output_type": "stream",
          "text": [
            "\n",
            "avg time for net 5 497.89655\n",
            "avg time for net 7 808.09985\n"
          ],
          "name": "stdout"
        }
      ]
    },
    {
      "cell_type": "code",
      "metadata": {
        "id": "uURy2QzqwiCs",
        "colab": {
          "base_uri": "https://localhost:8080/",
          "height": 314
        },
        "outputId": "e6c51cda-388b-46b2-e6e4-db9eaaf2b7e2"
      },
      "source": [
        "fig, ax = plt.subplots(tight_layout=True)\n",
        "hist = ax.hist(meet_array_net5, bins=30)\n",
        "ax.set_title('For net 5')"
      ],
      "execution_count": null,
      "outputs": [
        {
          "output_type": "execute_result",
          "data": {
            "text/plain": [
              "Text(0.5, 1.0, 'For net 5')"
            ]
          },
          "metadata": {
            "tags": []
          },
          "execution_count": 55
        },
        {
          "output_type": "display_data",
          "data": {
            "image/png": "[encoded data removed]",
            "text/plain": [
              "<Figure size 432x288 with 1 Axes>"
            ]
          },
          "metadata": {
            "tags": [],
            "needs_background": "light"
          }
        }
      ]
    },
    {
      "cell_type": "code",
      "metadata": {
        "id": "hR_Y1_zFw3qn",
        "colab": {
          "base_uri": "https://localhost:8080/",
          "height": 314
        },
        "outputId": "76011843-73c0-417b-ce15-ca4567feae59"
      },
      "source": [
        "fig, ax = plt.subplots(tight_layout=True)\n",
        "hist = ax.hist(meet_array_net7, bins=30)\n",
        "ax.set_title('For net 7')"
      ],
      "execution_count": null,
      "outputs": [
        {
          "output_type": "execute_result",
          "data": {
            "text/plain": [
              "Text(0.5, 1.0, 'For net 7')"
            ]
          },
          "metadata": {
            "tags": []
          },
          "execution_count": 56
        },
        {
          "output_type": "display_data",
          "data": {
            "image/png": "[encoded data removed]",
            "text/plain": [
              "<Figure size 432x288 with 1 Axes>"
            ]
          },
          "metadata": {
            "tags": [],
            "needs_background": "light"
          }
        }
      ]
    },
    {
      "cell_type": "markdown",
      "metadata": {
        "id": "Hn3_VmqnyQwU"
      },
      "source": [
        "Solution: Question3"
      ]
    },
    {
      "cell_type": "code",
      "metadata": {
        "id": "EiHLui3CxiMa"
      },
      "source": [
        "def spread(nodes):\n",
        "  #set of nodes that will spread the rumor this time\n",
        "  new_list = []           #all those persons who will get the rumor from nodes\n",
        "\n",
        "  for node in nodes:\n",
        "    x = np.random.choice(np.arange(1, 4), p=[0.75, 0.2, 0.05])\n",
        "    if x ==2:\n",
        "      #will send to any two randomly\n",
        "      temp = node.nhbs.copy()\n",
        "      temp.remove(node.sender)\n",
        "      i = temp[np.random.randint(0, len(temp))]\n",
        "      new_list.append(i)\n",
        "      i.sender = node\n",
        "      temp.remove(i)\n",
        "      j = temp[np.random.randint(0, len(temp))]\n",
        "      new_list.append(j)\n",
        "      j.sender = node\n",
        "      ##\n",
        "    elif x==3:\n",
        "      # it sends to all its neighbours\n",
        "      temp = node.nhbs.copy()\n",
        "      temp.remove(node.sender)\n",
        "      for nd in temp:\n",
        "        nd.sender = node\n",
        "      new_list += temp\n",
        "    return new_list\n",
        "      \n",
        "\n",
        "\n",
        "\n",
        "def tell_rumor_time(initiator_node, nodes):\n",
        "  currently_known_to = initiator_node.nhbs.copy()\n",
        "  new_list = currently_known_to.copy()\n",
        "  for nd in currently_known_to:\n",
        "    nd.sender = initiator_node\n",
        "  currently_known_to.append(initiator_node)\n",
        "  time = 1\n",
        "  # each time a set of nodes are allowed to send the messages\n",
        "  while len(currently_known_to) < len(nodes)/2:\n",
        "    time +=1 \n",
        "    current_new_list = spread(new_list)\n",
        "    intersection = set(current_new_list).intersection(currently_known_to)\n",
        "    if intersection == set(current_new_list):\n",
        "      break\n",
        "    else:\n",
        "      new_list_set = set(current_new_list) - intersection\n",
        "      new_list = list(new_list_set)\n",
        "      currently_known_to += new_list\n",
        "    \n",
        "  return time, len(currently_known_to)\n",
        "nodes_net5 =  give_nodes(net5)\n",
        "nodes_net7 =  give_nodes(net7)"
      ],
      "execution_count": null,
      "outputs": []
    },
    {
      "cell_type": "code",
      "metadata": {
        "id": "vrYr0zNcygek",
        "colab": {
          "base_uri": "https://localhost:8080/",
          "height": 140,
          "referenced_widgets": [
            "df8efb2eecd946259439949338bae25a",
            "efddcb9b3dfb472a9c21bdffcf3ebbce",
            "bb0e2a4dc3ca450e96b2de7d26119a8c",
            "417b7244957f410f99a7b24d2d50a752",
            "53d2479787c740daa3077d41765267b9",
            "8ef6bd4565204234a8077804ef21cc54",
            "80a12c2a1a3341fb896526f17e2a1440",
            "42518383f9104a33b42c135abe22eed4"
          ]
        },
        "outputId": "95002fcc-a371-4c87-a966-cfd9679523d6"
      },
      "source": [
        "times = 200000\n",
        "rumor_convg_time_net5 = []\n",
        "rumor_len_net5 = []\n",
        "rumor_convg_time_net7 = []\n",
        "rumor_len_net7 = []\n",
        "rumor_convg_time_net1 = []\n",
        "rumor_len_net1 = []\n",
        "\n",
        "\n",
        "for time in tqdm_notebook(range(times)):\n",
        "# for time in (range(times)):\n",
        "  t5, l5 = tell_rumor_time(nodes_net5[0], nodes_net5) #time and number of nodes it is known to\n",
        "  t7, l7 = tell_rumor_time(nodes_net7[0], nodes_net7) #time and number of nodes it is known to\n",
        "  t1, l1 = tell_rumor_time(nodes_net1[8], nodes_net1) #time and number of nodes it is known to\n",
        "  rumor_convg_time_net5.append(t5)\n",
        "  rumor_len_net5.append(l5)\n",
        "  rumor_convg_time_net7.append(t7)\n",
        "  rumor_len_net7.append(l7)\n",
        "  rumor_convg_time_net1.append(t1)\n",
        "  rumor_len_net1.append(l1)\n",
        "\n",
        "\n"
      ],
      "execution_count": null,
      "outputs": [
        {
          "output_type": "stream",
          "text": [
            "/usr/local/lib/python3.6/dist-packages/ipykernel_launcher.py:10: TqdmDeprecationWarning: This function will be removed in tqdm==5.0.0\n",
            "Please use `tqdm.notebook.tqdm` instead of `tqdm.tqdm_notebook`\n",
            "  # Remove the CWD from sys.path while we load stuff.\n"
          ],
          "name": "stderr"
        },
        {
          "output_type": "display_data",
          "data": {
            "application/vnd.jupyter.widget-view+json": {
              "model_id": "df8efb2eecd946259439949338bae25a",
              "version_minor": 0,
              "version_major": 2
            },
            "text/plain": [
              "HBox(children=(FloatProgress(value=0.0, max=200000.0), HTML(value='')))"
            ]
          },
          "metadata": {
            "tags": []
          }
        },
        {
          "output_type": "stream",
          "text": [
            "\n"
          ],
          "name": "stdout"
        }
      ]
    },
    {
      "cell_type": "markdown",
      "metadata": {
        "id": "VuyXfiQcWLlS"
      },
      "source": [
        "The estimation of how soon the population sees the message will be very much close to zero for net5 and net7."
      ]
    },
    {
      "cell_type": "code",
      "metadata": {
        "id": "a55Mq_bnRo6v",
        "colab": {
          "base_uri": "https://localhost:8080/"
        },
        "outputId": "99f36162-9d2e-4da4-8f6c-3605b82196fd"
      },
      "source": [
        "t = 0\n",
        "for l in range(len(rumor_len_net1)):\n",
        "  if rumor_len_net1[l] >= len(nodes_net1)/2:\n",
        "    t+=1\n",
        "print('Probability = ',t/len(rumor_len_net1))\n",
        "print(np.mean(rumor_convg_time_net1))"
      ],
      "execution_count": null,
      "outputs": [
        {
          "output_type": "stream",
          "text": [
            "Probability =  1.0\n",
            "1.0\n"
          ],
          "name": "stdout"
        }
      ]
    },
    {
      "cell_type": "code",
      "metadata": {
        "id": "2unlvm3QeXJf",
        "colab": {
          "base_uri": "https://localhost:8080/"
        },
        "outputId": "75c3f0ee-4a3a-4954-ee3d-9ad79e29cff4"
      },
      "source": [
        "t = 0\n",
        "for l in range(len(rumor_len_net5)):\n",
        "  if rumor_len_net5[l] >= len(nodes_net5)/2:\n",
        "    t+=1\n",
        "print('Probability = ',t/len(rumor_len_net5))"
      ],
      "execution_count": null,
      "outputs": [
        {
          "output_type": "stream",
          "text": [
            "Probability =  0.0\n"
          ],
          "name": "stdout"
        }
      ]
    },
    {
      "cell_type": "code",
      "metadata": {
        "id": "GoVTQ5I0jKrV",
        "colab": {
          "base_uri": "https://localhost:8080/"
        },
        "outputId": "fcc9b9f5-be8a-42ed-eeee-08ad14fde4bf"
      },
      "source": [
        "t = 0\n",
        "for l in range(len(rumor_len_net7)):\n",
        "  if rumor_len_net7[l] >= len(nodes_net7)/2:\n",
        "    t+=1\n",
        "print('Probability = ',t/len(rumor_len_net7))"
      ],
      "execution_count": null,
      "outputs": [
        {
          "output_type": "stream",
          "text": [
            "Probability =  0.0\n"
          ],
          "name": "stdout"
        }
      ]
    },
    {
      "cell_type": "code",
      "metadata": {
        "id": "mG_PEkcesYlK"
      },
      "source": [
        ""
      ],
      "execution_count": null,
      "outputs": []
    }
  ]
}